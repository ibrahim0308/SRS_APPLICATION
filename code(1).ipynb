{
  "nbformat": 4,
  "nbformat_minor": 0,
  "metadata": {
    "colab": {
      "provenance": []
    },
    "kernelspec": {
      "name": "python3",
      "display_name": "Python 3"
    },
    "language_info": {
      "name": "python"
    }
  },
  "cells": [
    {
      "cell_type": "markdown",
      "source": [
        "### import the Data for student that in Excel file inside \n",
        "\n",
        "\n",
        "---\n",
        "\n"
      ],
      "metadata": {
        "id": "dNpTAIMIgbfB"
      }
    },
    {
      "cell_type": "code",
      "execution_count": 10,
      "metadata": {
        "id": "7Q8Vs-oheFv2"
      },
      "outputs": [],
      "source": [
        "import pandas as pd\n",
        "#software library developed in Python language for data processing and analysis"
      ]
    },
    {
      "cell_type": "code",
      "source": [
        "#Read the Excel file and store the data in a DataFrame\n",
        "data = pd.read_csv('/content/first.csv')"
      ],
      "metadata": {
        "id": "Ra3bszkUfG25"
      },
      "execution_count": 11,
      "outputs": []
    },
    {
      "cell_type": "code",
      "source": [
        "#define the student data as that data DataFrame.\n",
        "student_data = pd.DataFrame(data) \n"
      ],
      "metadata": {
        "id": "3N2SzeTUfu9Z"
      },
      "execution_count": 12,
      "outputs": []
    },
    {
      "cell_type": "code",
      "source": [
        "student_data"
      ],
      "metadata": {
        "id": "GjHnAKwv6Fuc",
        "colab": {
          "base_uri": "https://localhost:8080/",
          "height": 1000
        },
        "outputId": "ddcb4405-6d76-42a8-c789-245130ff84a0"
      },
      "execution_count": 13,
      "outputs": [
        {
          "output_type": "execute_result",
          "data": {
            "text/plain": [
              "    student id student name                       Course\n",
              "0            5        ahmed           Petrol Engineering\n",
              "1            3         zaid          Nuclear engineering\n",
              "2            1         himo         Software Engineering\n",
              "3            7         saif                      Physics\n",
              "4            4         fizo       electronic Engineering\n",
              "5            6        feras           medical technology\n",
              "6           23        talal              computer scince\n",
              "7           45        sofia               cyber security\n",
              "8           67       maryam                      nursing\n",
              "9           26         sana                   Accounting\n",
              "10         112        Sarah                    Economics\n",
              "11         145         mia                      markting\n",
              "12         149      mostafa            project mangment \n",
              "13         164         Noah             Machine Learning\n",
              "14          94       Sophia                     Big Data\n",
              "15          87       Amelia  User Experience (UX) Design\n",
              "16          65         Emma         Software Engineering\n",
              "17          41    Alexander                   Management\n",
              "18          28        Emily           English Literature\n",
              "19          34         Jane                  Mathematics\n",
              "20          76         John             Computer Science\n",
              "21          95         amin             Computer Science\n",
              "22          32        lucas          Nuclear Engineering\n",
              "23          18         Omar                    Marketing\n",
              "24          75       Khalil                   E-Commerce\n",
              "25         176         Hoda             Entrepreneurship\n",
              "26         138         Nada             Computer Science\n",
              "27         145        Walaa                Cybersecurity\n",
              "28         167        Nabil               Graphic Design\n",
              "29         198      Ghassan                 3D Animation\n",
              "30         254         Mona         Broadcast Journalism\n",
              "31         267        Leila      Supply Chain Management\n",
              "32         492       Farida                    Marketing\n",
              "33         472       Hossam    Human Resource Management\n",
              "34         275         Eman             Entrepreneurship\n",
              "35         365        Hamza       Information Technology\n",
              "36         458       Yasmin       User Experience Design\n",
              "37         687       Samira              Motion Graphics\n",
              "38         599       Hadeel                 3D Animation\n",
              "39         256         Wael             Video Production\n",
              "40         672        Osama              Film Production\n",
              "41         942         Rola            Sound Engineering\n",
              "42         246       Sherif               Urban Planning\n",
              "43         791          Amr                    Marketing\n",
              "44         945        Nidal      Business Administration\n",
              "45         926        Farid         Broadcast Journalism\n",
              "46         385       Marwan                  Advertising\n",
              "47         374        Samir             Print Journalism\n",
              "48         648          sam        Materials Engineering\n",
              "49         345  abdelfattah           Mining Engineering"
            ],
            "text/html": [
              "\n",
              "  <div id=\"df-2c9a2477-e106-48ac-b252-5f202f66ec36\">\n",
              "    <div class=\"colab-df-container\">\n",
              "      <div>\n",
              "<style scoped>\n",
              "    .dataframe tbody tr th:only-of-type {\n",
              "        vertical-align: middle;\n",
              "    }\n",
              "\n",
              "    .dataframe tbody tr th {\n",
              "        vertical-align: top;\n",
              "    }\n",
              "\n",
              "    .dataframe thead th {\n",
              "        text-align: right;\n",
              "    }\n",
              "</style>\n",
              "<table border=\"1\" class=\"dataframe\">\n",
              "  <thead>\n",
              "    <tr style=\"text-align: right;\">\n",
              "      <th></th>\n",
              "      <th>student id</th>\n",
              "      <th>student name</th>\n",
              "      <th>Course</th>\n",
              "    </tr>\n",
              "  </thead>\n",
              "  <tbody>\n",
              "    <tr>\n",
              "      <th>0</th>\n",
              "      <td>5</td>\n",
              "      <td>ahmed</td>\n",
              "      <td>Petrol Engineering</td>\n",
              "    </tr>\n",
              "    <tr>\n",
              "      <th>1</th>\n",
              "      <td>3</td>\n",
              "      <td>zaid</td>\n",
              "      <td>Nuclear engineering</td>\n",
              "    </tr>\n",
              "    <tr>\n",
              "      <th>2</th>\n",
              "      <td>1</td>\n",
              "      <td>himo</td>\n",
              "      <td>Software Engineering</td>\n",
              "    </tr>\n",
              "    <tr>\n",
              "      <th>3</th>\n",
              "      <td>7</td>\n",
              "      <td>saif</td>\n",
              "      <td>Physics</td>\n",
              "    </tr>\n",
              "    <tr>\n",
              "      <th>4</th>\n",
              "      <td>4</td>\n",
              "      <td>fizo</td>\n",
              "      <td>electronic Engineering</td>\n",
              "    </tr>\n",
              "    <tr>\n",
              "      <th>5</th>\n",
              "      <td>6</td>\n",
              "      <td>feras</td>\n",
              "      <td>medical technology</td>\n",
              "    </tr>\n",
              "    <tr>\n",
              "      <th>6</th>\n",
              "      <td>23</td>\n",
              "      <td>talal</td>\n",
              "      <td>computer scince</td>\n",
              "    </tr>\n",
              "    <tr>\n",
              "      <th>7</th>\n",
              "      <td>45</td>\n",
              "      <td>sofia</td>\n",
              "      <td>cyber security</td>\n",
              "    </tr>\n",
              "    <tr>\n",
              "      <th>8</th>\n",
              "      <td>67</td>\n",
              "      <td>maryam</td>\n",
              "      <td>nursing</td>\n",
              "    </tr>\n",
              "    <tr>\n",
              "      <th>9</th>\n",
              "      <td>26</td>\n",
              "      <td>sana</td>\n",
              "      <td>Accounting</td>\n",
              "    </tr>\n",
              "    <tr>\n",
              "      <th>10</th>\n",
              "      <td>112</td>\n",
              "      <td>Sarah</td>\n",
              "      <td>Economics</td>\n",
              "    </tr>\n",
              "    <tr>\n",
              "      <th>11</th>\n",
              "      <td>145</td>\n",
              "      <td>mia</td>\n",
              "      <td>markting</td>\n",
              "    </tr>\n",
              "    <tr>\n",
              "      <th>12</th>\n",
              "      <td>149</td>\n",
              "      <td>mostafa</td>\n",
              "      <td>project mangment</td>\n",
              "    </tr>\n",
              "    <tr>\n",
              "      <th>13</th>\n",
              "      <td>164</td>\n",
              "      <td>Noah</td>\n",
              "      <td>Machine Learning</td>\n",
              "    </tr>\n",
              "    <tr>\n",
              "      <th>14</th>\n",
              "      <td>94</td>\n",
              "      <td>Sophia</td>\n",
              "      <td>Big Data</td>\n",
              "    </tr>\n",
              "    <tr>\n",
              "      <th>15</th>\n",
              "      <td>87</td>\n",
              "      <td>Amelia</td>\n",
              "      <td>User Experience (UX) Design</td>\n",
              "    </tr>\n",
              "    <tr>\n",
              "      <th>16</th>\n",
              "      <td>65</td>\n",
              "      <td>Emma</td>\n",
              "      <td>Software Engineering</td>\n",
              "    </tr>\n",
              "    <tr>\n",
              "      <th>17</th>\n",
              "      <td>41</td>\n",
              "      <td>Alexander</td>\n",
              "      <td>Management</td>\n",
              "    </tr>\n",
              "    <tr>\n",
              "      <th>18</th>\n",
              "      <td>28</td>\n",
              "      <td>Emily</td>\n",
              "      <td>English Literature</td>\n",
              "    </tr>\n",
              "    <tr>\n",
              "      <th>19</th>\n",
              "      <td>34</td>\n",
              "      <td>Jane</td>\n",
              "      <td>Mathematics</td>\n",
              "    </tr>\n",
              "    <tr>\n",
              "      <th>20</th>\n",
              "      <td>76</td>\n",
              "      <td>John</td>\n",
              "      <td>Computer Science</td>\n",
              "    </tr>\n",
              "    <tr>\n",
              "      <th>21</th>\n",
              "      <td>95</td>\n",
              "      <td>amin</td>\n",
              "      <td>Computer Science</td>\n",
              "    </tr>\n",
              "    <tr>\n",
              "      <th>22</th>\n",
              "      <td>32</td>\n",
              "      <td>lucas</td>\n",
              "      <td>Nuclear Engineering</td>\n",
              "    </tr>\n",
              "    <tr>\n",
              "      <th>23</th>\n",
              "      <td>18</td>\n",
              "      <td>Omar</td>\n",
              "      <td>Marketing</td>\n",
              "    </tr>\n",
              "    <tr>\n",
              "      <th>24</th>\n",
              "      <td>75</td>\n",
              "      <td>Khalil</td>\n",
              "      <td>E-Commerce</td>\n",
              "    </tr>\n",
              "    <tr>\n",
              "      <th>25</th>\n",
              "      <td>176</td>\n",
              "      <td>Hoda</td>\n",
              "      <td>Entrepreneurship</td>\n",
              "    </tr>\n",
              "    <tr>\n",
              "      <th>26</th>\n",
              "      <td>138</td>\n",
              "      <td>Nada</td>\n",
              "      <td>Computer Science</td>\n",
              "    </tr>\n",
              "    <tr>\n",
              "      <th>27</th>\n",
              "      <td>145</td>\n",
              "      <td>Walaa</td>\n",
              "      <td>Cybersecurity</td>\n",
              "    </tr>\n",
              "    <tr>\n",
              "      <th>28</th>\n",
              "      <td>167</td>\n",
              "      <td>Nabil</td>\n",
              "      <td>Graphic Design</td>\n",
              "    </tr>\n",
              "    <tr>\n",
              "      <th>29</th>\n",
              "      <td>198</td>\n",
              "      <td>Ghassan</td>\n",
              "      <td>3D Animation</td>\n",
              "    </tr>\n",
              "    <tr>\n",
              "      <th>30</th>\n",
              "      <td>254</td>\n",
              "      <td>Mona</td>\n",
              "      <td>Broadcast Journalism</td>\n",
              "    </tr>\n",
              "    <tr>\n",
              "      <th>31</th>\n",
              "      <td>267</td>\n",
              "      <td>Leila</td>\n",
              "      <td>Supply Chain Management</td>\n",
              "    </tr>\n",
              "    <tr>\n",
              "      <th>32</th>\n",
              "      <td>492</td>\n",
              "      <td>Farida</td>\n",
              "      <td>Marketing</td>\n",
              "    </tr>\n",
              "    <tr>\n",
              "      <th>33</th>\n",
              "      <td>472</td>\n",
              "      <td>Hossam</td>\n",
              "      <td>Human Resource Management</td>\n",
              "    </tr>\n",
              "    <tr>\n",
              "      <th>34</th>\n",
              "      <td>275</td>\n",
              "      <td>Eman</td>\n",
              "      <td>Entrepreneurship</td>\n",
              "    </tr>\n",
              "    <tr>\n",
              "      <th>35</th>\n",
              "      <td>365</td>\n",
              "      <td>Hamza</td>\n",
              "      <td>Information Technology</td>\n",
              "    </tr>\n",
              "    <tr>\n",
              "      <th>36</th>\n",
              "      <td>458</td>\n",
              "      <td>Yasmin</td>\n",
              "      <td>User Experience Design</td>\n",
              "    </tr>\n",
              "    <tr>\n",
              "      <th>37</th>\n",
              "      <td>687</td>\n",
              "      <td>Samira</td>\n",
              "      <td>Motion Graphics</td>\n",
              "    </tr>\n",
              "    <tr>\n",
              "      <th>38</th>\n",
              "      <td>599</td>\n",
              "      <td>Hadeel</td>\n",
              "      <td>3D Animation</td>\n",
              "    </tr>\n",
              "    <tr>\n",
              "      <th>39</th>\n",
              "      <td>256</td>\n",
              "      <td>Wael</td>\n",
              "      <td>Video Production</td>\n",
              "    </tr>\n",
              "    <tr>\n",
              "      <th>40</th>\n",
              "      <td>672</td>\n",
              "      <td>Osama</td>\n",
              "      <td>Film Production</td>\n",
              "    </tr>\n",
              "    <tr>\n",
              "      <th>41</th>\n",
              "      <td>942</td>\n",
              "      <td>Rola</td>\n",
              "      <td>Sound Engineering</td>\n",
              "    </tr>\n",
              "    <tr>\n",
              "      <th>42</th>\n",
              "      <td>246</td>\n",
              "      <td>Sherif</td>\n",
              "      <td>Urban Planning</td>\n",
              "    </tr>\n",
              "    <tr>\n",
              "      <th>43</th>\n",
              "      <td>791</td>\n",
              "      <td>Amr</td>\n",
              "      <td>Marketing</td>\n",
              "    </tr>\n",
              "    <tr>\n",
              "      <th>44</th>\n",
              "      <td>945</td>\n",
              "      <td>Nidal</td>\n",
              "      <td>Business Administration</td>\n",
              "    </tr>\n",
              "    <tr>\n",
              "      <th>45</th>\n",
              "      <td>926</td>\n",
              "      <td>Farid</td>\n",
              "      <td>Broadcast Journalism</td>\n",
              "    </tr>\n",
              "    <tr>\n",
              "      <th>46</th>\n",
              "      <td>385</td>\n",
              "      <td>Marwan</td>\n",
              "      <td>Advertising</td>\n",
              "    </tr>\n",
              "    <tr>\n",
              "      <th>47</th>\n",
              "      <td>374</td>\n",
              "      <td>Samir</td>\n",
              "      <td>Print Journalism</td>\n",
              "    </tr>\n",
              "    <tr>\n",
              "      <th>48</th>\n",
              "      <td>648</td>\n",
              "      <td>sam</td>\n",
              "      <td>Materials Engineering</td>\n",
              "    </tr>\n",
              "    <tr>\n",
              "      <th>49</th>\n",
              "      <td>345</td>\n",
              "      <td>abdelfattah</td>\n",
              "      <td>Mining Engineering</td>\n",
              "    </tr>\n",
              "  </tbody>\n",
              "</table>\n",
              "</div>\n",
              "      <button class=\"colab-df-convert\" onclick=\"convertToInteractive('df-2c9a2477-e106-48ac-b252-5f202f66ec36')\"\n",
              "              title=\"Convert this dataframe to an interactive table.\"\n",
              "              style=\"display:none;\">\n",
              "        \n",
              "  <svg xmlns=\"http://www.w3.org/2000/svg\" height=\"24px\"viewBox=\"0 0 24 24\"\n",
              "       width=\"24px\">\n",
              "    <path d=\"M0 0h24v24H0V0z\" fill=\"none\"/>\n",
              "    <path d=\"M18.56 5.44l.94 2.06.94-2.06 2.06-.94-2.06-.94-.94-2.06-.94 2.06-2.06.94zm-11 1L8.5 8.5l.94-2.06 2.06-.94-2.06-.94L8.5 2.5l-.94 2.06-2.06.94zm10 10l.94 2.06.94-2.06 2.06-.94-2.06-.94-.94-2.06-.94 2.06-2.06.94z\"/><path d=\"M17.41 7.96l-1.37-1.37c-.4-.4-.92-.59-1.43-.59-.52 0-1.04.2-1.43.59L10.3 9.45l-7.72 7.72c-.78.78-.78 2.05 0 2.83L4 21.41c.39.39.9.59 1.41.59.51 0 1.02-.2 1.41-.59l7.78-7.78 2.81-2.81c.8-.78.8-2.07 0-2.86zM5.41 20L4 18.59l7.72-7.72 1.47 1.35L5.41 20z\"/>\n",
              "  </svg>\n",
              "      </button>\n",
              "      \n",
              "  <style>\n",
              "    .colab-df-container {\n",
              "      display:flex;\n",
              "      flex-wrap:wrap;\n",
              "      gap: 12px;\n",
              "    }\n",
              "\n",
              "    .colab-df-convert {\n",
              "      background-color: #E8F0FE;\n",
              "      border: none;\n",
              "      border-radius: 50%;\n",
              "      cursor: pointer;\n",
              "      display: none;\n",
              "      fill: #1967D2;\n",
              "      height: 32px;\n",
              "      padding: 0 0 0 0;\n",
              "      width: 32px;\n",
              "    }\n",
              "\n",
              "    .colab-df-convert:hover {\n",
              "      background-color: #E2EBFA;\n",
              "      box-shadow: 0px 1px 2px rgba(60, 64, 67, 0.3), 0px 1px 3px 1px rgba(60, 64, 67, 0.15);\n",
              "      fill: #174EA6;\n",
              "    }\n",
              "\n",
              "    [theme=dark] .colab-df-convert {\n",
              "      background-color: #3B4455;\n",
              "      fill: #D2E3FC;\n",
              "    }\n",
              "\n",
              "    [theme=dark] .colab-df-convert:hover {\n",
              "      background-color: #434B5C;\n",
              "      box-shadow: 0px 1px 3px 1px rgba(0, 0, 0, 0.15);\n",
              "      filter: drop-shadow(0px 1px 2px rgba(0, 0, 0, 0.3));\n",
              "      fill: #FFFFFF;\n",
              "    }\n",
              "  </style>\n",
              "\n",
              "      <script>\n",
              "        const buttonEl =\n",
              "          document.querySelector('#df-2c9a2477-e106-48ac-b252-5f202f66ec36 button.colab-df-convert');\n",
              "        buttonEl.style.display =\n",
              "          google.colab.kernel.accessAllowed ? 'block' : 'none';\n",
              "\n",
              "        async function convertToInteractive(key) {\n",
              "          const element = document.querySelector('#df-2c9a2477-e106-48ac-b252-5f202f66ec36');\n",
              "          const dataTable =\n",
              "            await google.colab.kernel.invokeFunction('convertToInteractive',\n",
              "                                                     [key], {});\n",
              "          if (!dataTable) return;\n",
              "\n",
              "          const docLinkHtml = 'Like what you see? Visit the ' +\n",
              "            '<a target=\"_blank\" href=https://colab.research.google.com/notebooks/data_table.ipynb>data table notebook</a>'\n",
              "            + ' to learn more about interactive tables.';\n",
              "          element.innerHTML = '';\n",
              "          dataTable['output_type'] = 'display_data';\n",
              "          await google.colab.output.renderOutput(dataTable, element);\n",
              "          const docLink = document.createElement('div');\n",
              "          docLink.innerHTML = docLinkHtml;\n",
              "          element.appendChild(docLink);\n",
              "        }\n",
              "      </script>\n",
              "    </div>\n",
              "  </div>\n",
              "  "
            ]
          },
          "metadata": {},
          "execution_count": 13
        }
      ]
    },
    {
      "cell_type": "markdown",
      "source": [
        "**change the Data frame to be list**"
      ],
      "metadata": {
        "id": "f7WWJfEzPETH"
      }
    },
    {
      "cell_type": "code",
      "source": [
        "          #start to change it to list and define that list \n",
        "st_list = [(row['student id'], row['student name'], row['Course']) \n",
        "for index, row in student_data.iterrows()]"
      ],
      "metadata": {
        "id": "qYUd6lGyiwma"
      },
      "execution_count": 14,
      "outputs": []
    },
    {
      "cell_type": "code",
      "source": [
        "st_list"
      ],
      "metadata": {
        "id": "_wE_mGCMwUXk",
        "colab": {
          "base_uri": "https://localhost:8080/"
        },
        "outputId": "ef5acafa-6f70-46ff-fa48-36e00288053e"
      },
      "execution_count": 15,
      "outputs": [
        {
          "output_type": "execute_result",
          "data": {
            "text/plain": [
              "[(5, 'ahmed', 'Petrol Engineering'),\n",
              " (3, 'zaid', 'Nuclear engineering'),\n",
              " (1, 'himo', 'Software Engineering'),\n",
              " (7, 'saif', 'Physics'),\n",
              " (4, 'fizo', 'electronic Engineering'),\n",
              " (6, 'feras', 'medical technology'),\n",
              " (23, 'talal', 'computer scince'),\n",
              " (45, 'sofia', 'cyber security'),\n",
              " (67, 'maryam', 'nursing'),\n",
              " (26, 'sana', 'Accounting'),\n",
              " (112, 'Sarah', 'Economics'),\n",
              " (145, 'mia ', 'markting'),\n",
              " (149, 'mostafa', 'project mangment '),\n",
              " (164, 'Noah', 'Machine Learning'),\n",
              " (94, 'Sophia', 'Big Data'),\n",
              " (87, 'Amelia', 'User Experience (UX) Design'),\n",
              " (65, 'Emma', 'Software Engineering'),\n",
              " (41, 'Alexander', 'Management'),\n",
              " (28, 'Emily', 'English Literature'),\n",
              " (34, 'Jane', 'Mathematics'),\n",
              " (76, 'John', 'Computer Science'),\n",
              " (95, 'amin', 'Computer Science'),\n",
              " (32, 'lucas', 'Nuclear Engineering'),\n",
              " (18, 'Omar', 'Marketing'),\n",
              " (75, 'Khalil', 'E-Commerce'),\n",
              " (176, 'Hoda', 'Entrepreneurship'),\n",
              " (138, 'Nada', 'Computer Science'),\n",
              " (145, 'Walaa', 'Cybersecurity'),\n",
              " (167, 'Nabil', 'Graphic Design'),\n",
              " (198, 'Ghassan', '3D Animation'),\n",
              " (254, 'Mona', 'Broadcast Journalism'),\n",
              " (267, 'Leila', 'Supply Chain Management'),\n",
              " (492, 'Farida', 'Marketing'),\n",
              " (472, 'Hossam', 'Human Resource Management'),\n",
              " (275, 'Eman', 'Entrepreneurship'),\n",
              " (365, 'Hamza', 'Information Technology'),\n",
              " (458, 'Yasmin', 'User Experience Design'),\n",
              " (687, 'Samira', 'Motion Graphics'),\n",
              " (599, 'Hadeel', '3D Animation'),\n",
              " (256, 'Wael', 'Video Production'),\n",
              " (672, 'Osama', 'Film Production'),\n",
              " (942, 'Rola', 'Sound Engineering'),\n",
              " (246, 'Sherif', 'Urban Planning'),\n",
              " (791, 'Amr', 'Marketing'),\n",
              " (945, 'Nidal', 'Business Administration'),\n",
              " (926, 'Farid', 'Broadcast Journalism'),\n",
              " (385, 'Marwan', 'Advertising'),\n",
              " (374, 'Samir', 'Print Journalism'),\n",
              " (648, 'sam', 'Materials Engineering'),\n",
              " (345, 'abdelfattah', 'Mining Engineering')]"
            ]
          },
          "metadata": {},
          "execution_count": 15
        }
      ]
    },
    {
      "cell_type": "markdown",
      "source": [
        "**start to check the list and add one student before the sorting**"
      ],
      "metadata": {
        "id": "LRbqvIiLPkVw"
      }
    },
    {
      "cell_type": "code",
      "source": [
        "st_list.append((100,'abdo','media'))\n",
        "st_list"
      ],
      "metadata": {
        "id": "IF7g7fSCNqGU",
        "colab": {
          "base_uri": "https://localhost:8080/"
        },
        "outputId": "1914c621-eeba-4a94-fff4-57a7fc44e819"
      },
      "execution_count": 16,
      "outputs": [
        {
          "output_type": "execute_result",
          "data": {
            "text/plain": [
              "[(5, 'ahmed', 'Petrol Engineering'),\n",
              " (3, 'zaid', 'Nuclear engineering'),\n",
              " (1, 'himo', 'Software Engineering'),\n",
              " (7, 'saif', 'Physics'),\n",
              " (4, 'fizo', 'electronic Engineering'),\n",
              " (6, 'feras', 'medical technology'),\n",
              " (23, 'talal', 'computer scince'),\n",
              " (45, 'sofia', 'cyber security'),\n",
              " (67, 'maryam', 'nursing'),\n",
              " (26, 'sana', 'Accounting'),\n",
              " (112, 'Sarah', 'Economics'),\n",
              " (145, 'mia ', 'markting'),\n",
              " (149, 'mostafa', 'project mangment '),\n",
              " (164, 'Noah', 'Machine Learning'),\n",
              " (94, 'Sophia', 'Big Data'),\n",
              " (87, 'Amelia', 'User Experience (UX) Design'),\n",
              " (65, 'Emma', 'Software Engineering'),\n",
              " (41, 'Alexander', 'Management'),\n",
              " (28, 'Emily', 'English Literature'),\n",
              " (34, 'Jane', 'Mathematics'),\n",
              " (76, 'John', 'Computer Science'),\n",
              " (95, 'amin', 'Computer Science'),\n",
              " (32, 'lucas', 'Nuclear Engineering'),\n",
              " (18, 'Omar', 'Marketing'),\n",
              " (75, 'Khalil', 'E-Commerce'),\n",
              " (176, 'Hoda', 'Entrepreneurship'),\n",
              " (138, 'Nada', 'Computer Science'),\n",
              " (145, 'Walaa', 'Cybersecurity'),\n",
              " (167, 'Nabil', 'Graphic Design'),\n",
              " (198, 'Ghassan', '3D Animation'),\n",
              " (254, 'Mona', 'Broadcast Journalism'),\n",
              " (267, 'Leila', 'Supply Chain Management'),\n",
              " (492, 'Farida', 'Marketing'),\n",
              " (472, 'Hossam', 'Human Resource Management'),\n",
              " (275, 'Eman', 'Entrepreneurship'),\n",
              " (365, 'Hamza', 'Information Technology'),\n",
              " (458, 'Yasmin', 'User Experience Design'),\n",
              " (687, 'Samira', 'Motion Graphics'),\n",
              " (599, 'Hadeel', '3D Animation'),\n",
              " (256, 'Wael', 'Video Production'),\n",
              " (672, 'Osama', 'Film Production'),\n",
              " (942, 'Rola', 'Sound Engineering'),\n",
              " (246, 'Sherif', 'Urban Planning'),\n",
              " (791, 'Amr', 'Marketing'),\n",
              " (945, 'Nidal', 'Business Administration'),\n",
              " (926, 'Farid', 'Broadcast Journalism'),\n",
              " (385, 'Marwan', 'Advertising'),\n",
              " (374, 'Samir', 'Print Journalism'),\n",
              " (648, 'sam', 'Materials Engineering'),\n",
              " (345, 'abdelfattah', 'Mining Engineering'),\n",
              " (100, 'abdo', 'media')]"
            ]
          },
          "metadata": {},
          "execution_count": 16
        }
      ]
    },
    {
      "cell_type": "markdown",
      "source": [
        "### **Use the bubble sort Algoritm To sort students according to their ID from smallest to largest**\n",
        "\n",
        "---\n",
        "\n"
      ],
      "metadata": {
        "id": "68eKwtyCPv_J"
      }
    },
    {
      "cell_type": "code",
      "source": [
        "def bubble_sort(data):\n",
        "    # Loop through the entire list\n",
        "    for i in range(len(data) - 1):\n",
        "        # Loop through the list, except for the already sorted elements at end\n",
        "        for j in range(len(data) - 1 - i):\n",
        "            # If the current element is greater than next element, swap them\n",
        "            if data[j] > data[j + 1]:\n",
        "                data[j], data[j + 1] = data[j + 1], data[j]"
      ],
      "metadata": {
        "id": "9v8bK2U0vDxC"
      },
      "execution_count": 17,
      "outputs": []
    },
    {
      "cell_type": "code",
      "source": [
        "           #sort the list that we have\n",
        "bubble_sort(st_list)"
      ],
      "metadata": {
        "id": "h2oiwiTbwMJF"
      },
      "execution_count": 18,
      "outputs": []
    },
    {
      "cell_type": "code",
      "source": [
        "st_list"
      ],
      "metadata": {
        "colab": {
          "base_uri": "https://localhost:8080/"
        },
        "id": "0iiZwJ3U6YRs",
        "outputId": "ce18224f-d2a3-4f9a-b0b7-c8c0c6b08cc4"
      },
      "execution_count": 19,
      "outputs": [
        {
          "output_type": "execute_result",
          "data": {
            "text/plain": [
              "[(1, 'himo', 'Software Engineering'),\n",
              " (3, 'zaid', 'Nuclear engineering'),\n",
              " (4, 'fizo', 'electronic Engineering'),\n",
              " (5, 'ahmed', 'Petrol Engineering'),\n",
              " (6, 'feras', 'medical technology'),\n",
              " (7, 'saif', 'Physics'),\n",
              " (18, 'Omar', 'Marketing'),\n",
              " (23, 'talal', 'computer scince'),\n",
              " (26, 'sana', 'Accounting'),\n",
              " (28, 'Emily', 'English Literature'),\n",
              " (32, 'lucas', 'Nuclear Engineering'),\n",
              " (34, 'Jane', 'Mathematics'),\n",
              " (41, 'Alexander', 'Management'),\n",
              " (45, 'sofia', 'cyber security'),\n",
              " (65, 'Emma', 'Software Engineering'),\n",
              " (67, 'maryam', 'nursing'),\n",
              " (75, 'Khalil', 'E-Commerce'),\n",
              " (76, 'John', 'Computer Science'),\n",
              " (87, 'Amelia', 'User Experience (UX) Design'),\n",
              " (94, 'Sophia', 'Big Data'),\n",
              " (95, 'amin', 'Computer Science'),\n",
              " (100, 'abdo', 'media'),\n",
              " (112, 'Sarah', 'Economics'),\n",
              " (138, 'Nada', 'Computer Science'),\n",
              " (145, 'Walaa', 'Cybersecurity'),\n",
              " (145, 'mia ', 'markting'),\n",
              " (149, 'mostafa', 'project mangment '),\n",
              " (164, 'Noah', 'Machine Learning'),\n",
              " (167, 'Nabil', 'Graphic Design'),\n",
              " (176, 'Hoda', 'Entrepreneurship'),\n",
              " (198, 'Ghassan', '3D Animation'),\n",
              " (246, 'Sherif', 'Urban Planning'),\n",
              " (254, 'Mona', 'Broadcast Journalism'),\n",
              " (256, 'Wael', 'Video Production'),\n",
              " (267, 'Leila', 'Supply Chain Management'),\n",
              " (275, 'Eman', 'Entrepreneurship'),\n",
              " (345, 'abdelfattah', 'Mining Engineering'),\n",
              " (365, 'Hamza', 'Information Technology'),\n",
              " (374, 'Samir', 'Print Journalism'),\n",
              " (385, 'Marwan', 'Advertising'),\n",
              " (458, 'Yasmin', 'User Experience Design'),\n",
              " (472, 'Hossam', 'Human Resource Management'),\n",
              " (492, 'Farida', 'Marketing'),\n",
              " (599, 'Hadeel', '3D Animation'),\n",
              " (648, 'sam', 'Materials Engineering'),\n",
              " (672, 'Osama', 'Film Production'),\n",
              " (687, 'Samira', 'Motion Graphics'),\n",
              " (791, 'Amr', 'Marketing'),\n",
              " (926, 'Farid', 'Broadcast Journalism'),\n",
              " (942, 'Rola', 'Sound Engineering'),\n",
              " (945, 'Nidal', 'Business Administration')]"
            ]
          },
          "metadata": {},
          "execution_count": 19
        }
      ]
    },
    {
      "cell_type": "markdown",
      "source": [
        "**use linear search algorithm to search with name or ID for student**"
      ],
      "metadata": {
        "id": "qaOBpaGrKwgz"
      }
    },
    {
      "cell_type": "code",
      "source": [
        "# linear search algorithm\n",
        "\n",
        "def linearsearch(array, finding):\n",
        "\n",
        "# (array) is the array that I would like to search in it\n",
        "# (finding) is the target value that I want to search for it in the list\n",
        "\n",
        "    for i in range(len(array)):\n",
        "\n",
        "\n",
        "\n",
        "        if array[i][0] == finding:\n",
        "\n",
        "            return i\n",
        "            \n",
        "    return ('Not in the list')"
      ],
      "metadata": {
        "id": "bmnTzzmNmzwl"
      },
      "execution_count": 20,
      "outputs": []
    },
    {
      "cell_type": "code",
      "source": [
        "linearsearch(st_list,'amin')"
      ],
      "metadata": {
        "colab": {
          "base_uri": "https://localhost:8080/",
          "height": 35
        },
        "id": "xrAhYyx_m91m",
        "outputId": "0d38d582-b3b7-46f1-b057-6154e1ff9c54"
      },
      "execution_count": 21,
      "outputs": [
        {
          "output_type": "execute_result",
          "data": {
            "text/plain": [
              "'Not in the list'"
            ],
            "application/vnd.google.colaboratory.intrinsic+json": {
              "type": "string"
            }
          },
          "metadata": {},
          "execution_count": 21
        }
      ]
    },
    {
      "cell_type": "markdown",
      "source": [
        "### **Here, the binary search is define in order for the students ID**"
      ],
      "metadata": {
        "id": "rpHhdRCkQySo"
      }
    },
    {
      "cell_type": "code",
      "source": [
        "def binarySearch(arr, l, r, x):\n",
        " \n",
        "    # Check base case\n",
        "    if r >= l:\n",
        " \n",
        "        mid = (l + (r)) // 2\n",
        " \n",
        "        # If element is present at the middle itself\n",
        "        if arr[mid][0] == x:\n",
        "            return mid\n",
        " \n",
        "        # If element is smaller than mid, then it\n",
        "        # can only be present in left subarray\n",
        "        elif arr[mid][0] > x:\n",
        "            return binarySearch(arr, l, mid-1, x)\n",
        " \n",
        "        # Else the element can only be present\n",
        "        # in right subarray\n",
        "        else:\n",
        "            return binarySearch(arr, mid + 1, r, x)\n",
        " \n",
        "    else:\n",
        "        # Element is not present in the array\n",
        "        return ('Not in the list')"
      ],
      "metadata": {
        "id": "E_E-O_VNxKcK"
      },
      "execution_count": 22,
      "outputs": []
    },
    {
      "cell_type": "code",
      "source": [
        "binarySearch(st_list,0,len(st_list)-1, 5 )"
      ],
      "metadata": {
        "colab": {
          "base_uri": "https://localhost:8080/"
        },
        "id": "W5MTq5CpxMRn",
        "outputId": "a82662c3-a72c-4d42-bbb2-eb547413efa7"
      },
      "execution_count": 23,
      "outputs": [
        {
          "output_type": "execute_result",
          "data": {
            "text/plain": [
              "3"
            ]
          },
          "metadata": {},
          "execution_count": 23
        }
      ]
    },
    {
      "cell_type": "markdown",
      "source": [
        "\n",
        "**bubble sort to make a search with name **"
      ],
      "metadata": {
        "id": "FZOlEyHmbjJu"
      }
    },
    {
      "cell_type": "code",
      "source": [
        "def bubble_sort(data):\n",
        "    # Loop through the entire list\n",
        "    for i in range(len(data) - 1):\n",
        "        # Loop through the list, except for the already sorted elements at end\n",
        "        for j in range(len(data) - 1 - i):\n",
        "            # If the current element is greater than next element, swap them\n",
        "            if data[j][1] > data[j + 1][1]:\n",
        "                data[j], data[j + 1] = data[j + 1], data[j]"
      ],
      "metadata": {
        "id": "Dvtgv9Z7bCBJ"
      },
      "execution_count": 24,
      "outputs": []
    },
    {
      "cell_type": "code",
      "source": [
        " #sort the list that we have\n",
        "bubble_sort(st_list)"
      ],
      "metadata": {
        "id": "AcNapG2QbITs"
      },
      "execution_count": 25,
      "outputs": []
    },
    {
      "cell_type": "code",
      "source": [
        "st_list"
      ],
      "metadata": {
        "colab": {
          "base_uri": "https://localhost:8080/"
        },
        "id": "OrGN-c_0bNUi",
        "outputId": "57ec1a20-d333-416e-ff3f-0ec39f097225"
      },
      "execution_count": 26,
      "outputs": [
        {
          "output_type": "execute_result",
          "data": {
            "text/plain": [
              "[(41, 'Alexander', 'Management'),\n",
              " (87, 'Amelia', 'User Experience (UX) Design'),\n",
              " (791, 'Amr', 'Marketing'),\n",
              " (275, 'Eman', 'Entrepreneurship'),\n",
              " (28, 'Emily', 'English Literature'),\n",
              " (65, 'Emma', 'Software Engineering'),\n",
              " (926, 'Farid', 'Broadcast Journalism'),\n",
              " (492, 'Farida', 'Marketing'),\n",
              " (198, 'Ghassan', '3D Animation'),\n",
              " (599, 'Hadeel', '3D Animation'),\n",
              " (365, 'Hamza', 'Information Technology'),\n",
              " (176, 'Hoda', 'Entrepreneurship'),\n",
              " (472, 'Hossam', 'Human Resource Management'),\n",
              " (34, 'Jane', 'Mathematics'),\n",
              " (76, 'John', 'Computer Science'),\n",
              " (75, 'Khalil', 'E-Commerce'),\n",
              " (267, 'Leila', 'Supply Chain Management'),\n",
              " (385, 'Marwan', 'Advertising'),\n",
              " (254, 'Mona', 'Broadcast Journalism'),\n",
              " (167, 'Nabil', 'Graphic Design'),\n",
              " (138, 'Nada', 'Computer Science'),\n",
              " (945, 'Nidal', 'Business Administration'),\n",
              " (164, 'Noah', 'Machine Learning'),\n",
              " (18, 'Omar', 'Marketing'),\n",
              " (672, 'Osama', 'Film Production'),\n",
              " (942, 'Rola', 'Sound Engineering'),\n",
              " (374, 'Samir', 'Print Journalism'),\n",
              " (687, 'Samira', 'Motion Graphics'),\n",
              " (112, 'Sarah', 'Economics'),\n",
              " (246, 'Sherif', 'Urban Planning'),\n",
              " (94, 'Sophia', 'Big Data'),\n",
              " (256, 'Wael', 'Video Production'),\n",
              " (145, 'Walaa', 'Cybersecurity'),\n",
              " (458, 'Yasmin', 'User Experience Design'),\n",
              " (345, 'abdelfattah', 'Mining Engineering'),\n",
              " (100, 'abdo', 'media'),\n",
              " (5, 'ahmed', 'Petrol Engineering'),\n",
              " (95, 'amin', 'Computer Science'),\n",
              " (6, 'feras', 'medical technology'),\n",
              " (4, 'fizo', 'electronic Engineering'),\n",
              " (1, 'himo', 'Software Engineering'),\n",
              " (32, 'lucas', 'Nuclear Engineering'),\n",
              " (67, 'maryam', 'nursing'),\n",
              " (145, 'mia ', 'markting'),\n",
              " (149, 'mostafa', 'project mangment '),\n",
              " (7, 'saif', 'Physics'),\n",
              " (648, 'sam', 'Materials Engineering'),\n",
              " (26, 'sana', 'Accounting'),\n",
              " (45, 'sofia', 'cyber security'),\n",
              " (23, 'talal', 'computer scince'),\n",
              " (3, 'zaid', 'Nuclear engineering')]"
            ]
          },
          "metadata": {},
          "execution_count": 26
        }
      ]
    },
    {
      "cell_type": "markdown",
      "source": [
        "**bianry search with name**"
      ],
      "metadata": {
        "id": "fFDXY8tmLh-P"
      }
    },
    {
      "cell_type": "code",
      "source": [
        "def binarySearch(arr, l, r, x):\n",
        " \n",
        "    # Check base case\n",
        "    if r >= l:\n",
        " \n",
        "        mid = (l + (r)) // 2\n",
        " \n",
        "        # If element is present at the middle itself\n",
        "        if arr[mid][1] == x:\n",
        "            return mid\n",
        " \n",
        "        # If element is smaller than mid, then it\n",
        "        # can only be present in left subarray\n",
        "        elif arr[mid][1] > x:\n",
        "            return binarySearch(arr, l, mid-1, x)\n",
        " \n",
        "        # Else the element can only be present\n",
        "        # in right subarray\n",
        "        else:\n",
        "            return binarySearch(arr, mid + 1, r, x)\n",
        " \n",
        "    else:\n",
        "        # Element is not present in the array\n",
        "        return -1"
      ],
      "metadata": {
        "id": "Atk5LtsqbSXw"
      },
      "execution_count": 27,
      "outputs": []
    },
    {
      "cell_type": "code",
      "source": [
        "binarySearch(st_list,0,len(st_list)-1,'himo' )"
      ],
      "metadata": {
        "colab": {
          "base_uri": "https://localhost:8080/"
        },
        "id": "Zkr808c5bdFI",
        "outputId": "b53a9e13-eab3-46f0-acaf-b1eea223f6c1"
      },
      "execution_count": 28,
      "outputs": [
        {
          "output_type": "execute_result",
          "data": {
            "text/plain": [
              "40"
            ]
          },
          "metadata": {},
          "execution_count": 28
        }
      ]
    },
    {
      "cell_type": "markdown",
      "source": [
        "**UPDATE information inside the List**"
      ],
      "metadata": {
        "id": "qTs5UVy8o0R_"
      }
    },
    {
      "cell_type": "code",
      "source": [
        "def update_student(st_list, id, name, course):\n",
        "    # Loop through each student in the list\n",
        "    for i, student in enumerate(st_list):\n",
        "        # Check if the student's ID matches the provided ID\n",
        "        if st_list[i][0] == id:\n",
        "            # Update the student's information\n",
        "            st_list[i] = ((id, name, course))\n",
        "            # Break the loop as we have found the student\n",
        "            break\n",
        "    # Return the updated list of students\n",
        "    return st_list"
      ],
      "metadata": {
        "id": "4xRAKX46pL3e"
      },
      "execution_count": 29,
      "outputs": []
    },
    {
      "cell_type": "code",
      "source": [
        "updated_students= update_student(st_list,41,'Alexander','coumputer')"
      ],
      "metadata": {
        "id": "E9UqvXqspVbk"
      },
      "execution_count": 30,
      "outputs": []
    },
    {
      "cell_type": "code",
      "source": [
        "st_list"
      ],
      "metadata": {
        "colab": {
          "base_uri": "https://localhost:8080/"
        },
        "id": "_euVHTX8txbc",
        "outputId": "8ed4ccc9-b871-47f8-bbeb-57d3d5130516"
      },
      "execution_count": 31,
      "outputs": [
        {
          "output_type": "execute_result",
          "data": {
            "text/plain": [
              "[(41, 'Alexander', 'coumputer'),\n",
              " (87, 'Amelia', 'User Experience (UX) Design'),\n",
              " (791, 'Amr', 'Marketing'),\n",
              " (275, 'Eman', 'Entrepreneurship'),\n",
              " (28, 'Emily', 'English Literature'),\n",
              " (65, 'Emma', 'Software Engineering'),\n",
              " (926, 'Farid', 'Broadcast Journalism'),\n",
              " (492, 'Farida', 'Marketing'),\n",
              " (198, 'Ghassan', '3D Animation'),\n",
              " (599, 'Hadeel', '3D Animation'),\n",
              " (365, 'Hamza', 'Information Technology'),\n",
              " (176, 'Hoda', 'Entrepreneurship'),\n",
              " (472, 'Hossam', 'Human Resource Management'),\n",
              " (34, 'Jane', 'Mathematics'),\n",
              " (76, 'John', 'Computer Science'),\n",
              " (75, 'Khalil', 'E-Commerce'),\n",
              " (267, 'Leila', 'Supply Chain Management'),\n",
              " (385, 'Marwan', 'Advertising'),\n",
              " (254, 'Mona', 'Broadcast Journalism'),\n",
              " (167, 'Nabil', 'Graphic Design'),\n",
              " (138, 'Nada', 'Computer Science'),\n",
              " (945, 'Nidal', 'Business Administration'),\n",
              " (164, 'Noah', 'Machine Learning'),\n",
              " (18, 'Omar', 'Marketing'),\n",
              " (672, 'Osama', 'Film Production'),\n",
              " (942, 'Rola', 'Sound Engineering'),\n",
              " (374, 'Samir', 'Print Journalism'),\n",
              " (687, 'Samira', 'Motion Graphics'),\n",
              " (112, 'Sarah', 'Economics'),\n",
              " (246, 'Sherif', 'Urban Planning'),\n",
              " (94, 'Sophia', 'Big Data'),\n",
              " (256, 'Wael', 'Video Production'),\n",
              " (145, 'Walaa', 'Cybersecurity'),\n",
              " (458, 'Yasmin', 'User Experience Design'),\n",
              " (345, 'abdelfattah', 'Mining Engineering'),\n",
              " (100, 'abdo', 'media'),\n",
              " (5, 'ahmed', 'Petrol Engineering'),\n",
              " (95, 'amin', 'Computer Science'),\n",
              " (6, 'feras', 'medical technology'),\n",
              " (4, 'fizo', 'electronic Engineering'),\n",
              " (1, 'himo', 'Software Engineering'),\n",
              " (32, 'lucas', 'Nuclear Engineering'),\n",
              " (67, 'maryam', 'nursing'),\n",
              " (145, 'mia ', 'markting'),\n",
              " (149, 'mostafa', 'project mangment '),\n",
              " (7, 'saif', 'Physics'),\n",
              " (648, 'sam', 'Materials Engineering'),\n",
              " (26, 'sana', 'Accounting'),\n",
              " (45, 'sofia', 'cyber security'),\n",
              " (23, 'talal', 'computer scince'),\n",
              " (3, 'zaid', 'Nuclear engineering')]"
            ]
          },
          "metadata": {},
          "execution_count": 31
        }
      ]
    },
    {
      "cell_type": "markdown",
      "source": [
        "**save all information in the file with all this updates**"
      ],
      "metadata": {
        "id": "f6wc5e1JLq9M"
      }
    },
    {
      "cell_type": "code",
      "source": [
        "# change tuples it to a data frame \n",
        "Final_list = pd.DataFrame(st_list) "
      ],
      "metadata": {
        "id": "D6ZFDOwsKRB1"
      },
      "execution_count": 32,
      "outputs": []
    },
    {
      "cell_type": "code",
      "source": [
        "# make column names like before \n",
        "Final_list.columns = [\"student id\", \"student Name\", \"Course\"]"
      ],
      "metadata": {
        "id": "bhwbWFB-OZq6"
      },
      "execution_count": 33,
      "outputs": []
    },
    {
      "cell_type": "code",
      "source": [
        "# save and return new data to CSV file\n",
        "Final_list.to_csv(\"/content/final.csv\")"
      ],
      "metadata": {
        "id": "w-I8UHqtojWl"
      },
      "execution_count": 34,
      "outputs": []
    }
  ]
}